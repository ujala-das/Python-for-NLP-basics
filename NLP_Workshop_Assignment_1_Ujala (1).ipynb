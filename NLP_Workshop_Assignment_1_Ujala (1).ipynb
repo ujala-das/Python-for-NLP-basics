{
  "nbformat": 4,
  "nbformat_minor": 0,
  "metadata": {
    "colab": {
      "provenance": []
    },
    "kernelspec": {
      "name": "python3",
      "display_name": "Python 3"
    },
    "language_info": {
      "name": "python"
    }
  },
  "cells": [
    {
      "cell_type": "markdown",
      "source": [
        "#1) What is Natural Language Processing (NLP)?\n",
        "Natural Language Processing (NLP) is a field of Artificial Intelligence that enables computer to understand, read, and create human language. It is used in applications like chatbots, translation services, sentiment analysis, and voice recognition."
      ],
      "metadata": {
        "id": "4sl5mnpb7uCu"
      }
    },
    {
      "cell_type": "markdown",
      "source": [
        "#2) Explain the different data types with examples."
      ],
      "metadata": {
        "id": "tO0Slner9l7i"
      }
    },
    {
      "cell_type": "markdown",
      "source": [
        "##1. Text type:\n",
        "\n",
        "String (str)\n",
        "\n",
        "A sequence of a sequence of character or text enclosed in single or double quotes.\n",
        "\n",
        "Strings are used to store names, sentences, words, and any kind of textual data."
      ],
      "metadata": {
        "id": "0Al5Rf8ZDmjW"
      }
    },
    {
      "cell_type": "code",
      "source": [
        "name = 'Python'. #name is a string because it holds text in double quotes."
      ],
      "metadata": {
        "id": "nDOsAeeyEYdg"
      },
      "execution_count": null,
      "outputs": []
    },
    {
      "cell_type": "markdown",
      "source": [
        "## 2. Numeric types:\n",
        "\n",
        "a. Integer (int)\n",
        "\n",
        "An integer is a whole number that does not have any decimal part.\n",
        "\n",
        "It can be positive, negative, or zero. Python uses the `int` data type to store such values."
      ],
      "metadata": {
        "id": "CvhkCbCeAW28"
      }
    },
    {
      "cell_type": "code",
      "source": [
        "a = 10  #'a' is an integer because it stores the whole number 10.\n",
        "print(type(a))"
      ],
      "metadata": {
        "colab": {
          "base_uri": "https://localhost:8080/"
        },
        "id": "RFdRO0GCBI4Y",
        "outputId": "b9291824-d23e-4208-964d-e24a2c2793f2"
      },
      "execution_count": null,
      "outputs": [
        {
          "output_type": "stream",
          "name": "stdout",
          "text": [
            "<class 'int'>\n"
          ]
        }
      ]
    },
    {
      "cell_type": "markdown",
      "source": [
        "b. Float (float)\n",
        "\n",
        "A float is a number that includes a decimal point. This data type is used when we need more precision or when working with fractional values."
      ],
      "metadata": {
        "id": "_gDgEaPhBf_E"
      }
    },
    {
      "cell_type": "code",
      "source": [
        "b = 3.14 #'b' is a float because it contains a decimal value.\n",
        "print(type(b))"
      ],
      "metadata": {
        "colab": {
          "base_uri": "https://localhost:8080/"
        },
        "id": "752jR7OjB2R9",
        "outputId": "8ebd4668-41d0-4ff8-f3bf-d93bbd4419c0"
      },
      "execution_count": null,
      "outputs": [
        {
          "output_type": "stream",
          "name": "stdout",
          "text": [
            "<class 'float'>\n"
          ]
        }
      ]
    },
    {
      "cell_type": "markdown",
      "source": [
        "##3. Sequence type\n",
        "\n",
        "a. List (list)\n",
        "\n",
        "A list is a collection of items stores in a specific order.\n",
        "\n",
        "Lists are mutable, which means we can change, add, or remove items after the list is created.\n",
        "\n",
        "Items are placed inside square brackets [ ]."
      ],
      "metadata": {
        "id": "qz2iMYrHH2gN"
      }
    },
    {
      "cell_type": "code",
      "source": [
        "fruits = [\"apple\", \"banana\", \"orange\"]. #fruits is a list that contains three fruit names"
      ],
      "metadata": {
        "id": "Zp9uwfG3Im-A"
      },
      "execution_count": null,
      "outputs": []
    },
    {
      "cell_type": "markdown",
      "source": [
        "b. Tuple (tuple)\n",
        "\n",
        "A tuple is also a collection of items, just like a list, but it is immutable, meaning we cannot change or update its various once it's created.\n",
        "\n",
        "Tuples are defined using round brackets ( )."
      ],
      "metadata": {
        "id": "i6B_Iu-xFYrU"
      }
    },
    {
      "cell_type": "code",
      "source": [
        "coordinates = (10, 20) #coordinates is a tuple containing two numbers."
      ],
      "metadata": {
        "id": "ykkA4hxZJUsr"
      },
      "execution_count": null,
      "outputs": []
    },
    {
      "cell_type": "markdown",
      "source": [
        "c. Range (range)\n",
        "\n",
        "A range is a built-in data type in Python that represents a sequence of numbers.\n",
        "\n",
        "It is not most commonly used in `loop`, especially `for loops`, to repeat something s specific number of times."
      ],
      "metadata": {
        "id": "53WNQwLVMfAt"
      }
    },
    {
      "cell_type": "code",
      "source": [
        "numbers = range(1, 6) #numbers is a range that contains numbers from 1 to 5."
      ],
      "metadata": {
        "id": "eZeNNmXUNK9r"
      },
      "execution_count": null,
      "outputs": []
    },
    {
      "cell_type": "markdown",
      "source": [
        "##4. Mapping type:\n",
        "\n",
        "Dictionary (dict)\n",
        "\n",
        "A dictionary is a collection of key-value pairs. Each value in the dictionary is accessed using its unique key.\n",
        "\n",
        "Dictionaries are useful when we wamt to label each value."
      ],
      "metadata": {
        "id": "qVcSZx-yJsgz"
      }
    },
    {
      "cell_type": "code",
      "source": [
        "student = {\"name\": \"Amit\", \"age\": 21}  #student is a dictionary where \"name\" and \"age\" are keys, and \"Amit\" and 21 are their corresponding values."
      ],
      "metadata": {
        "id": "6MZYxMeHKVJk"
      },
      "execution_count": null,
      "outputs": []
    },
    {
      "cell_type": "markdown",
      "source": [
        "##5. Set type:\n",
        "\n",
        "Set (set)\n",
        "\n",
        "A set is a collection that stores only unique values, meaning it removes duplicates automatically.\n",
        "\n",
        "Sets are unordered, so the items may appear in any order when printed."
      ],
      "metadata": {
        "id": "ydRhCdWdKpFf"
      }
    },
    {
      "cell_type": "code",
      "source": [
        "numbers = {1, 2, 2, 3}. #the set numbers will only contain {1, 2, 3} because duplicate values are removed."
      ],
      "metadata": {
        "id": "XlUsSz-hK9km"
      },
      "execution_count": null,
      "outputs": []
    },
    {
      "cell_type": "markdown",
      "source": [
        "##6. Boolean (bool)\n",
        "\n",
        "A boolean can hold only two values: `True or False`\n",
        "\n",
        "This data type is mainly used to check conditions in programs (like yes/no, true/false decisions)."
      ],
      "metadata": {
        "id": "EL96UBmAFWZg"
      }
    },
    {
      "cell_type": "code",
      "source": [
        "is_sunny = True. #is_sunny is a boolean variable that stores the value 'True'"
      ],
      "metadata": {
        "id": "1fBVeKetFaUd"
      },
      "execution_count": null,
      "outputs": []
    },
    {
      "cell_type": "markdown",
      "source": [
        "#3) Explain the different Python operators with examples.\n",
        "\n",
        "Operators are special symbols or keywords in Python that perform operations on values or variables.'\n",
        "\n",
        "For example, the + operator is used to add two numbers, and the == operator is used to check if two values are equal.\n",
        "\n",
        "Python has several types of operators:"
      ],
      "metadata": {
        "id": "FttBDsInOUzN"
      }
    },
    {
      "cell_type": "markdown",
      "source": [
        "##1. Arithmatic operators\n",
        "\n",
        "These operators are used to perform mathematical operations like addition, subtraction, multiplication, etc.\n",
        "\n",
        "'+' Adition\n",
        "\n",
        "\n",
        "'-' Substraction\n",
        "\n",
        "\n",
        "'*' Multiplication\n",
        "\n",
        "'/' Division\n",
        "\n",
        "'%' Modulus\n",
        "\n",
        "'**' Exponent\n",
        "\n",
        "'//' Floor Division"
      ],
      "metadata": {
        "id": "mttgo-p2PH3g"
      }
    },
    {
      "cell_type": "code",
      "source": [
        "a = 10\n",
        "b = 3\n",
        "\n",
        "print(a + b) #Addition\n",
        "print(a - b) #Substraction\n",
        "print(a * b) #Multiplication\n",
        "print(a / b) #Division\n",
        "print(a % b) #Modulus\n",
        "print(a ** b) #Exponent\n",
        "print(a // b) #Floor Division"
      ],
      "metadata": {
        "id": "tprOnVJoQJ0S",
        "colab": {
          "base_uri": "https://localhost:8080/"
        },
        "outputId": "30213f4f-9d34-4d23-b073-57d8180b6154"
      },
      "execution_count": 1,
      "outputs": [
        {
          "output_type": "stream",
          "name": "stdout",
          "text": [
            "13\n",
            "7\n",
            "30\n",
            "3.3333333333333335\n",
            "1\n",
            "1000\n",
            "3\n"
          ]
        }
      ]
    },
    {
      "cell_type": "markdown",
      "source": [
        "##2. Comparison (Relational) operators\n",
        "\n",
        "These operators compare two values and return `True` or `False`\n",
        "\n",
        "'==' Equal to\n",
        "\n",
        "'!=' Not equal to\n",
        "\n",
        "'>' Greater than\n",
        "\n",
        "'<' Less than\n",
        "\n",
        "'>=' Greater than or equal\n",
        "\n",
        "'<=' Less than or equal"
      ],
      "metadata": {
        "id": "YvZ0DRf2Qvl5"
      }
    },
    {
      "cell_type": "code",
      "source": [
        "x = 9\n",
        "y = 5\n",
        "\n",
        "print(x > y) #True\n",
        "print(x == y) #False\n",
        "print(x < y) #False"
      ],
      "metadata": {
        "id": "GDCBsBZlRw_l",
        "colab": {
          "base_uri": "https://localhost:8080/"
        },
        "outputId": "51f75579-c3f6-4518-e01e-afa806e29cfb"
      },
      "execution_count": 2,
      "outputs": [
        {
          "output_type": "stream",
          "name": "stdout",
          "text": [
            "True\n",
            "False\n",
            "False\n"
          ]
        }
      ]
    },
    {
      "cell_type": "markdown",
      "source": [
        "## 3. Logical Operators\n",
        "\n",
        "These are used to combine multiple condition. They return `True` or `False`\n",
        "\n",
        "and - True if both are true - True and False\n",
        "\n",
        "or - True if at least one is True - True or False\n",
        "\n",
        "not - Reverses the condition - not True"
      ],
      "metadata": {
        "id": "aNXPK54lSV97"
      }
    },
    {
      "cell_type": "code",
      "source": [
        "a = True\n",
        "b = False\n",
        "\n",
        "print(a and b) #False, because both are not True\n",
        "print(a or b) #True, at least one is True\n",
        "print(not a) #False, reverses True to False"
      ],
      "metadata": {
        "id": "PURBd-GiS6Lx",
        "colab": {
          "base_uri": "https://localhost:8080/"
        },
        "outputId": "e09a59cc-998c-4ff1-c50b-fea04b679aa7"
      },
      "execution_count": 3,
      "outputs": [
        {
          "output_type": "stream",
          "name": "stdout",
          "text": [
            "False\n",
            "True\n",
            "False\n"
          ]
        }
      ]
    },
    {
      "cell_type": "markdown",
      "source": [
        "##4. Assignment Operators\n",
        "\n",
        "These are used to assign values to variables.\n",
        "\n",
        "Some also perform an operation and then assign the result.\n",
        "\n",
        "= , += , -=, *= , /= , %="
      ],
      "metadata": {
        "id": "YMn24QdbUB4W"
      }
    },
    {
      "cell_type": "code",
      "source": [
        "x = 5\n",
        "x += 3 #Now x = 8\n",
        "print (x)"
      ],
      "metadata": {
        "colab": {
          "base_uri": "https://localhost:8080/"
        },
        "id": "3RgL2rcsUswQ",
        "outputId": "8cae22a8-c119-4e31-b93f-a8754fc9f704"
      },
      "execution_count": 4,
      "outputs": [
        {
          "output_type": "stream",
          "name": "stdout",
          "text": [
            "8\n"
          ]
        }
      ]
    },
    {
      "cell_type": "markdown",
      "source": [
        "##5. Membership operators\n",
        "\n",
        "These check whether a value is present in a list, string, or t=other collections.\n",
        "\n",
        "`in` -- Value exists\n",
        "\n",
        "`not in` -- Value doesn't exist"
      ],
      "metadata": {
        "id": "3sOU0UAXVBNF"
      }
    },
    {
      "cell_type": "code",
      "source": [
        "fruits = [\"apple\", \"banana\", \"orange\"]\n",
        "\n",
        "print(\"apple\" in fruits) #True\n",
        "print(\"grape\" not in fruits) #True"
      ],
      "metadata": {
        "id": "yM3XP1WSWN3E",
        "colab": {
          "base_uri": "https://localhost:8080/"
        },
        "outputId": "bd5b957d-847b-4edc-d3bf-8a45671356df"
      },
      "execution_count": 5,
      "outputs": [
        {
          "output_type": "stream",
          "name": "stdout",
          "text": [
            "True\n",
            "True\n"
          ]
        }
      ]
    },
    {
      "cell_type": "markdown",
      "source": [
        "#4) What is a list? Give examples for its different methods."
      ],
      "metadata": {
        "id": "sZaueahnHWC5"
      }
    },
    {
      "cell_type": "markdown",
      "source": [
        "A list is a mutable ordered collection of items. Lists can store any data type, including a mix of types.\n",
        "\n",
        "`append()` - add an elemenr at the end.\n",
        "\n",
        "`sort()` - sort the list.\n",
        "\n",
        "`reverse()` - reverse the list order.\n",
        "\n",
        "`remove()` - remove first ocurrence of a value.\n",
        "\n",
        "`pop()` - remove element by index.\n",
        "\n",
        "`insert()` - insert at a specific index.\n",
        "\n",
        "`index()` - get index of an element.\n",
        "\n",
        "`extend()` - adds all the elements from another list to the end.\n",
        "\n",
        "`count()` - returns the number of times te item appears in the list.\n",
        "\n",
        "`copy()` - returns a shallow copy of the list.\n",
        "\n",
        "`clear()` - removes all elements from the list."
      ],
      "metadata": {
        "id": "AKYd5KSZHj9k"
      }
    },
    {
      "cell_type": "code",
      "source": [
        "# Creating a sample list\n",
        "fruits = [\"apple\", \"banana\", \"cherry\"]\n",
        "\n",
        "# 1) Append\n",
        "fruits.append(\"mango\")  # Adds 'mango' at the end\n",
        "\n",
        "# 2) Sort\n",
        "fruits.sort()  # Sorts alphabetically\n",
        "\n",
        "# 3) Reverse\n",
        "fruits.reverse()  # Reverses the current order\n",
        "\n",
        "# 4) Remove\n",
        "fruits.remove(\"banana\")  # Removes first 'banana' if it exists\n",
        "\n",
        "# 5) Pop\n",
        "last_item = fruits.pop()  # Removes and returns last element\n",
        "\n",
        "# 6) Insert\n",
        "fruits.insert(1, \"orange\")  # Adds 'orange' at index 1\n",
        "\n",
        "# 7) Index\n",
        "print(fruits.index(\"orange\"))  # Prints position of 'orange'\n",
        "\n",
        "# 8) Extend\n",
        "fruits.extend([\"grape\", \"kiwi\"])  # Adds multiple elements at end\n",
        "\n",
        "# 9) Count\n",
        "print(fruits.count(\"apple\"))  # Number of 'apple' occurrences\n",
        "\n",
        "# 10) Copy\n",
        "new_list = fruits.copy()  # Creates a copy\n",
        "\n",
        "# 11) Clear\n",
        "fruits.clear()  # Removes all elements from the list"
      ],
      "metadata": {
        "id": "2JL9qyt-ITTJ",
        "collapsed": true
      },
      "execution_count": null,
      "outputs": []
    },
    {
      "cell_type": "markdown",
      "source": [
        "#5) Explain string and its methods with examples."
      ],
      "metadata": {
        "id": "vvOsNEOaSn17"
      }
    },
    {
      "cell_type": "markdown",
      "source": [
        "A string is a sequence of characters enclosed in quotes. Strings are immutable, meaning we can’t change them directly, but we can create new strings from them."
      ],
      "metadata": {
        "id": "NdU3Lp8KSxkD"
      }
    },
    {
      "cell_type": "code",
      "source": [
        "text = \"Hello World\"\n",
        "\n",
        "print(\"Hello\".isalpha())      # Only letters? → True\n",
        "print(\"Hello123\".isalnum())   # Letters/numbers? → True\n",
        "print(text.index(\"World\"))    # Index of \"World\"\n",
        "print(text.count(\"l\"))        # Count 'l'\n",
        "print(text.capitalize())      # Capitalize first letter\n",
        "print(\"123\".isdigit())        # Only digits? → True\n",
        "print(text.lower())           # Lowercase\n",
        "print(text.upper())           # Uppercase\n",
        "print(text.replace(\"World\", \"Python\"))  # Replace word\n",
        "print(\"   Hello   \".strip())  # Remove spaces\n",
        "print(text.split())           # Split into list\n",
        "print(\" \".join([\"Python\", \"is\", \"fun\"]))# Join list to string"
      ],
      "metadata": {
        "id": "_VIo8d3pS8aW",
        "colab": {
          "base_uri": "https://localhost:8080/"
        },
        "outputId": "43849bdd-6c44-47fb-cdb4-8d1096586f88"
      },
      "execution_count": 7,
      "outputs": [
        {
          "output_type": "stream",
          "name": "stdout",
          "text": [
            "True\n",
            "True\n",
            "6\n",
            "3\n",
            "Hello world\n",
            "True\n",
            "hello world\n",
            "HELLO WORLD\n",
            "Hello Python\n",
            "Hello\n",
            "['Hello', 'World']\n",
            "Python is fun\n"
          ]
        }
      ]
    },
    {
      "cell_type": "markdown",
      "source": [
        "#6) What are conditional statements and explain them with examples?"
      ],
      "metadata": {
        "id": "dTdCfBd2TFjQ"
      }
    },
    {
      "cell_type": "markdown",
      "source": [
        "Conditional statements allow a program to make decisions based on certain conditions. If a condition is True, a certain block of code runs; if not, another block may run."
      ],
      "metadata": {
        "id": "xxQfnZueTrHe"
      }
    },
    {
      "cell_type": "markdown",
      "source": [
        "`if` Statement → Runs a block of code only if the condition is `True`."
      ],
      "metadata": {
        "id": "6eDzd4x_UbIx"
      }
    },
    {
      "cell_type": "code",
      "source": [
        "age = 20\n",
        "if age >= 18:\n",
        "    print(\"You are an adult.\")  # This runs only if condition is True"
      ],
      "metadata": {
        "colab": {
          "base_uri": "https://localhost:8080/"
        },
        "id": "KHkWU2YJTqVw",
        "outputId": "1605e2be-19a6-44de-b9a2-a3f4f3814074"
      },
      "execution_count": 8,
      "outputs": [
        {
          "output_type": "stream",
          "name": "stdout",
          "text": [
            "You are an adult.\n"
          ]
        }
      ]
    },
    {
      "cell_type": "markdown",
      "source": [
        "`if-else` Statement → Runs one block if the condition is `True`, otherwise runs another block."
      ],
      "metadata": {
        "id": "qnD-XStgXxLm"
      }
    },
    {
      "cell_type": "code",
      "source": [
        "age = 16\n",
        "if age >= 18:\n",
        "    print(\"You are an adult.\")\n",
        "else:\n",
        "    print(\"You are a minor.\")  # This runs if condition is False"
      ],
      "metadata": {
        "colab": {
          "base_uri": "https://localhost:8080/"
        },
        "id": "yq7U9vCoYuWF",
        "outputId": "b91365e0-eb8c-499b-dc45-d21dea3ea087"
      },
      "execution_count": null,
      "outputs": [
        {
          "output_type": "stream",
          "name": "stdout",
          "text": [
            "You are a minor.\n"
          ]
        }
      ]
    },
    {
      "cell_type": "markdown",
      "source": [
        "`if-elif-else` Statement → Checks multiple conditions in sequence; runs the first block whose condition is `True`."
      ],
      "metadata": {
        "id": "AqCnRPJ-ZIds"
      }
    },
    {
      "cell_type": "code",
      "source": [
        "score = 85\n",
        "if score >= 90:\n",
        "    print(\"Grade A\")\n",
        "elif score >= 75:\n",
        "    print(\"Grade B\")  # Runs if 75 ≤ score < 90\n",
        "else:\n",
        "    print(\"Grade C\")"
      ],
      "metadata": {
        "colab": {
          "base_uri": "https://localhost:8080/"
        },
        "id": "9mq61WKhZbmM",
        "outputId": "721c4b37-3925-4e37-a1a3-7f8b6f4d5c8a"
      },
      "execution_count": null,
      "outputs": [
        {
          "output_type": "stream",
          "name": "stdout",
          "text": [
            "Grade B\n"
          ]
        }
      ]
    }
  ]
}