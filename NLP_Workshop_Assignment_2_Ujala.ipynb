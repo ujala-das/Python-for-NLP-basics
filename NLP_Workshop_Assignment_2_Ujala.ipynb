{
  "nbformat": 4,
  "nbformat_minor": 0,
  "metadata": {
    "colab": {
      "provenance": []
    },
    "kernelspec": {
      "name": "python3",
      "display_name": "Python 3"
    },
    "language_info": {
      "name": "python"
    }
  },
  "cells": [
    {
      "cell_type": "markdown",
      "source": [
        "#1) What are string methods?\n",
        "\n",
        "String methods are built-in Python functions that let you manipulate and analyze text data easily."
      ],
      "metadata": {
        "id": "aIieGJ7HdWLI"
      }
    },
    {
      "cell_type": "code",
      "source": [
        "text = \"Hello World 123\"\n",
        "\n",
        "print(text.isalpha())      # False, because it contains spaces and numbers\n",
        "print(text.isalnum())      # False, because it contains spaces\n",
        "print(text.upper())        # \"HELLO WORLD 123\"\n",
        "print(text.lower())        # \"hello world 123\"\n",
        "print(text.replace(\"World\", \"Python\"))  # \"Hello Python 123\"\n",
        "print(text.startswith(\"Hello\"))  # True\n",
        "print(text.endswith(\"123\"))      # True\n",
        "print(text.split())        # ['Hello', 'World', '123']\n",
        "print(\"-\".join([\"Python\", \"Rocks\"]))  # \"Python-Rocks\""
      ],
      "metadata": {
        "id": "fj9SSkS1dVH5",
        "colab": {
          "base_uri": "https://localhost:8080/"
        },
        "outputId": "1e227e05-5419-47aa-9b1b-e168596f5ed4"
      },
      "execution_count": 1,
      "outputs": [
        {
          "output_type": "stream",
          "name": "stdout",
          "text": [
            "False\n",
            "False\n",
            "HELLO WORLD 123\n",
            "hello world 123\n",
            "Hello Python 123\n",
            "True\n",
            "True\n",
            "['Hello', 'World', '123']\n",
            "Python-Rocks\n"
          ]
        }
      ]
    },
    {
      "cell_type": "markdown",
      "source": [
        "#2) What are conditionals?\n",
        "\n",
        "Conditional statements in Python control the flow of your code by executing certain blocks only when specific conditions are met.\n",
        "\n",
        "`if`: Runs when the condition is true.\n",
        "\n",
        "`else`: Runs when all previous conditions are false.\n",
        "\n",
        "`elif`: Checks another condition if the previous `if` was false.\n",
        "\n",
        "Nested if: An if inside another if to check multiple levels of conditions."
      ],
      "metadata": {
        "id": "zOBm2jezhQBb"
      }
    },
    {
      "cell_type": "code",
      "execution_count": 2,
      "metadata": {
        "id": "IfcXkBBzbKhw",
        "colab": {
          "base_uri": "https://localhost:8080/"
        },
        "outputId": "36b76056-9ad9-40b3-9cc7-50bb8e19d0e7"
      },
      "outputs": [
        {
          "output_type": "stream",
          "name": "stdout",
          "text": [
            "You are an adult.\n",
            "Grade B\n",
            "x is between 10 and 20\n"
          ]
        }
      ],
      "source": [
        "age = 20\n",
        "\n",
        "# If-Else\n",
        "if age >= 18:\n",
        "    print(\"You are an adult.\")\n",
        "else:\n",
        "    print(\"You are a minor.\")\n",
        "\n",
        "# If-Elif-Else\n",
        "marks = 85\n",
        "if marks >= 90:\n",
        "    print(\"Grade A\")\n",
        "elif marks >= 75:\n",
        "    print(\"Grade B\")\n",
        "else:\n",
        "    print(\"Grade C\")\n",
        "\n",
        "# Nested If\n",
        "x = 15\n",
        "if x > 10:\n",
        "    if x < 20:\n",
        "        print(\"x is between 10 and 20\")"
      ]
    },
    {
      "cell_type": "markdown",
      "source": [
        "#3) Difference between for loop and while loop, and the use of break and continue\n",
        "\n",
        "`For` Loop: Best when you know how many times you need to iterate (lists, strings, ranges).\n",
        "\n",
        "`While` Loop: Best when you don’t know how many times, but stop when a condition fails.\n",
        "\n",
        "`break`: Immediately stops the loop.\n",
        "\n",
        "`continue`: Skips the rest of the code for that iteration and moves to the next one."
      ],
      "metadata": {
        "id": "Ynq-9sUgkFpt"
      }
    },
    {
      "cell_type": "code",
      "source": [
        "# For loop\n",
        "for i in range(5):\n",
        "    print(i)\n",
        "\n",
        "# While loop\n",
        "count = 0\n",
        "while count < 5:\n",
        "    print(count)\n",
        "    count += 1\n",
        "\n",
        "# Break example\n",
        "for num in range(10):\n",
        "    if num == 5:\n",
        "        break\n",
        "    print(num)\n",
        "\n",
        "# Continue example\n",
        "for num in range(5):\n",
        "    if num == 2:\n",
        "        continue\n",
        "    print(num)"
      ],
      "metadata": {
        "colab": {
          "base_uri": "https://localhost:8080/"
        },
        "id": "gZUTe6gjlVjJ",
        "outputId": "cfba457b-a8eb-481f-b74f-149305935092"
      },
      "execution_count": 3,
      "outputs": [
        {
          "output_type": "stream",
          "name": "stdout",
          "text": [
            "0\n",
            "1\n",
            "2\n",
            "3\n",
            "4\n",
            "0\n",
            "1\n",
            "2\n",
            "3\n",
            "4\n",
            "0\n",
            "1\n",
            "2\n",
            "3\n",
            "4\n",
            "0\n",
            "1\n",
            "3\n",
            "4\n"
          ]
        }
      ]
    },
    {
      "cell_type": "markdown",
      "source": [
        "#4) What is Lambda, Map, and Zip function?\n",
        "\n",
        "Lambda: One-line, anonymous function without `def`.\n",
        "\n",
        "Map: Applies a function to each item in a list/tuple.\n",
        "\n",
        "Zip: Combines multiple lists/tuples element-wise into tuples."
      ],
      "metadata": {
        "id": "WoxCXgWglbBb"
      }
    },
    {
      "cell_type": "code",
      "source": [
        "# Lambda function\n",
        "square = lambda x: x * x\n",
        "print(square(5))  # 25\n",
        "\n",
        "# Map function\n",
        "numbers = [1, 2, 3, 4]\n",
        "squared = list(map(lambda x: x ** 2, numbers))\n",
        "print(squared)  # [1, 4, 9, 16]\n",
        "\n",
        "# Zip function\n",
        "names = [\"Alice\", \"Bob\", \"Charlie\"]\n",
        "scores = [85, 90, 95]\n",
        "combined = list(zip(names, scores))\n",
        "print(combined)  # [('Alice', 85), ('Bob', 90), ('Charlie', 95)]"
      ],
      "metadata": {
        "id": "vnhnXtY6lorJ",
        "colab": {
          "base_uri": "https://localhost:8080/"
        },
        "outputId": "ee0d70db-8fa7-4355-8d5a-74f9fe712015"
      },
      "execution_count": 4,
      "outputs": [
        {
          "output_type": "stream",
          "name": "stdout",
          "text": [
            "25\n",
            "[1, 4, 9, 16]\n",
            "[('Alice', 85), ('Bob', 90), ('Charlie', 95)]\n"
          ]
        }
      ]
    },
    {
      "cell_type": "markdown",
      "source": [
        "#5) What are functions?\n",
        "\n",
        "Functions make code organized, reusable, and easier to maintain. We define a function using `def`, and we can pass arguments to it and return results."
      ],
      "metadata": {
        "id": "qTTxjvFClr5Z"
      }
    },
    {
      "cell_type": "code",
      "source": [
        "def add_numbers(a, b):\n",
        "    return a + b\n",
        "\n",
        "result = add_numbers(10, 20)\n",
        "print(\"Sum:\", result)  # Sum: 30"
      ],
      "metadata": {
        "id": "RK3xaBArl4ss",
        "colab": {
          "base_uri": "https://localhost:8080/"
        },
        "outputId": "44fc3200-f7c7-42ee-87a8-820377a84d30"
      },
      "execution_count": 5,
      "outputs": [
        {
          "output_type": "stream",
          "name": "stdout",
          "text": [
            "Sum: 30\n"
          ]
        }
      ]
    },
    {
      "cell_type": "markdown",
      "source": [
        "#6) Dataset\n",
        "\n"
      ],
      "metadata": {
        "id": "M2W9fVDooZXL"
      }
    },
    {
      "cell_type": "code",
      "source": [
        "import pandas as pd\n",
        "import kagglehub\n",
        "\n",
        "# Download dataset from Kaggle\n",
        "path = kagglehub.dataset_download(\"jp797498e/twitter-entity-sentiment-analysis\")\n",
        "print(\"Path to dataset files:\", path)\n",
        "\n",
        "# Load CSV file with no header row\n",
        "df = pd.read_csv(path + \"/twitter_training.csv\", header=None)\n",
        "\n",
        "# Rename columns\n",
        "df.columns = [\"ID\", \"Entity\", \"Sentiment\", \"Tweet\"]\n",
        "\n",
        "# Preview first and last rows\n",
        "print(\"\\n--- First 5 Rows ---\")\n",
        "print(df.head())\n",
        "\n",
        "print(\"\\n--- Last 5 Rows ---\")\n",
        "print(df.tail())\n",
        "\n",
        "# Dataset information\n",
        "print(\"\\n--- Dataset Info ---\")\n",
        "print(df.info())\n",
        "\n",
        "# Shape of dataset\n",
        "print(\"\\nShape of dataset:\", df.shape)\n",
        "\n",
        "# Column names\n",
        "print(\"\\nColumn names:\", df.columns.tolist())\n",
        "\n",
        "# Missing values\n",
        "print(\"\\n--- Missing Values ---\")\n",
        "print(df.isnull().sum())\n",
        "\n",
        "# Descriptive statistics for object and numeric columns\n",
        "print(\"\\n--- Descriptive Statistics ---\")\n",
        "print(df.describe(include='all'))\n",
        "\n",
        "# Example: Unique sentiment values\n",
        "print(\"\\n--- Sentiment Value Counts ---\")\n",
        "print(df['Sentiment'].value_counts())"
      ],
      "metadata": {
        "id": "W7tp12rFrSeH",
        "outputId": "afc78837-36a9-4fc0-eb16-41c550d9744a",
        "colab": {
          "base_uri": "https://localhost:8080/"
        }
      },
      "execution_count": 6,
      "outputs": [
        {
          "output_type": "stream",
          "name": "stdout",
          "text": [
            "Downloading from https://www.kaggle.com/api/v1/datasets/download/jp797498e/twitter-entity-sentiment-analysis?dataset_version_number=2...\n"
          ]
        },
        {
          "output_type": "stream",
          "name": "stderr",
          "text": [
            "100%|██████████| 1.99M/1.99M [00:00<00:00, 119MB/s]"
          ]
        },
        {
          "output_type": "stream",
          "name": "stdout",
          "text": [
            "Extracting files...\n",
            "Path to dataset files: /root/.cache/kagglehub/datasets/jp797498e/twitter-entity-sentiment-analysis/versions/2\n"
          ]
        },
        {
          "output_type": "stream",
          "name": "stderr",
          "text": [
            "\n"
          ]
        },
        {
          "output_type": "stream",
          "name": "stdout",
          "text": [
            "\n",
            "--- First 5 Rows ---\n",
            "     ID       Entity Sentiment  \\\n",
            "0  2401  Borderlands  Positive   \n",
            "1  2401  Borderlands  Positive   \n",
            "2  2401  Borderlands  Positive   \n",
            "3  2401  Borderlands  Positive   \n",
            "4  2401  Borderlands  Positive   \n",
            "\n",
            "                                               Tweet  \n",
            "0  im getting on borderlands and i will murder yo...  \n",
            "1  I am coming to the borders and I will kill you...  \n",
            "2  im getting on borderlands and i will kill you ...  \n",
            "3  im coming on borderlands and i will murder you...  \n",
            "4  im getting on borderlands 2 and i will murder ...  \n",
            "\n",
            "--- Last 5 Rows ---\n",
            "         ID  Entity Sentiment  \\\n",
            "74677  9200  Nvidia  Positive   \n",
            "74678  9200  Nvidia  Positive   \n",
            "74679  9200  Nvidia  Positive   \n",
            "74680  9200  Nvidia  Positive   \n",
            "74681  9200  Nvidia  Positive   \n",
            "\n",
            "                                                   Tweet  \n",
            "74677  Just realized that the Windows partition of my...  \n",
            "74678  Just realized that my Mac window partition is ...  \n",
            "74679  Just realized the windows partition of my Mac ...  \n",
            "74680  Just realized between the windows partition of...  \n",
            "74681  Just like the windows partition of my Mac is l...  \n",
            "\n",
            "--- Dataset Info ---\n",
            "<class 'pandas.core.frame.DataFrame'>\n",
            "RangeIndex: 74682 entries, 0 to 74681\n",
            "Data columns (total 4 columns):\n",
            " #   Column     Non-Null Count  Dtype \n",
            "---  ------     --------------  ----- \n",
            " 0   ID         74682 non-null  int64 \n",
            " 1   Entity     74682 non-null  object\n",
            " 2   Sentiment  74682 non-null  object\n",
            " 3   Tweet      73996 non-null  object\n",
            "dtypes: int64(1), object(3)\n",
            "memory usage: 2.3+ MB\n",
            "None\n",
            "\n",
            "Shape of dataset: (74682, 4)\n",
            "\n",
            "Column names: ['ID', 'Entity', 'Sentiment', 'Tweet']\n",
            "\n",
            "--- Missing Values ---\n",
            "ID             0\n",
            "Entity         0\n",
            "Sentiment      0\n",
            "Tweet        686\n",
            "dtype: int64\n",
            "\n",
            "--- Descriptive Statistics ---\n",
            "                  ID     Entity Sentiment  \\\n",
            "count   74682.000000      74682     74682   \n",
            "unique           NaN         32         4   \n",
            "top              NaN  Microsoft  Negative   \n",
            "freq             NaN       2400     22542   \n",
            "mean     6432.586165        NaN       NaN   \n",
            "std      3740.427870        NaN       NaN   \n",
            "min         1.000000        NaN       NaN   \n",
            "25%      3195.000000        NaN       NaN   \n",
            "50%      6422.000000        NaN       NaN   \n",
            "75%      9601.000000        NaN       NaN   \n",
            "max     13200.000000        NaN       NaN   \n",
            "\n",
            "                                                    Tweet  \n",
            "count                                               73996  \n",
            "unique                                              69491  \n",
            "top     At the same time, despite the fact that there ...  \n",
            "freq                                                  172  \n",
            "mean                                                  NaN  \n",
            "std                                                   NaN  \n",
            "min                                                   NaN  \n",
            "25%                                                   NaN  \n",
            "50%                                                   NaN  \n",
            "75%                                                   NaN  \n",
            "max                                                   NaN  \n",
            "\n",
            "--- Sentiment Value Counts ---\n",
            "Sentiment\n",
            "Negative      22542\n",
            "Positive      20832\n",
            "Neutral       18318\n",
            "Irrelevant    12990\n",
            "Name: count, dtype: int64\n"
          ]
        }
      ]
    }
  ]
}